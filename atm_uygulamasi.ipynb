{
  "nbformat": 4,
  "nbformat_minor": 0,
  "metadata": {
    "colab": {
      "provenance": [],
      "authorship_tag": "ABX9TyOX8KfP3IflHjsKhexRKKPJ",
      "include_colab_link": true
    },
    "kernelspec": {
      "name": "python3",
      "display_name": "Python 3"
    },
    "language_info": {
      "name": "python"
    }
  },
  "cells": [
    {
      "cell_type": "markdown",
      "metadata": {
        "id": "view-in-github",
        "colab_type": "text"
      },
      "source": [
        "<a href=\"https://colab.research.google.com/github/gbariskirca/gbariskirca/blob/main/atm_uygulamasi.ipynb\" target=\"_parent\"><img src=\"https://colab.research.google.com/assets/colab-badge.svg\" alt=\"Open In Colab\"/></a>"
      ]
    },
    {
      "cell_type": "code",
      "execution_count": 1,
      "metadata": {
        "colab": {
          "base_uri": "https://localhost:8080/"
        },
        "id": "I2pMyb4paBm0",
        "outputId": "f165a51a-7d66-4425-d571-40fe27734a3b"
      },
      "outputs": [
        {
          "output_type": "stream",
          "name": "stdout",
          "text": [
            "Lütfen kullanıcı adınızı giriniz: 852\n",
            "Lütfen parolanızı giriniz: 5421\n",
            "kullanıcı adı ve parola hatalı.\n",
            "Lütfen kullanıcı adınızı giriniz: 56312\n",
            "Lütfen parolanızı giriniz: 532\n",
            "kullanıcı adı ve parola hatalı.\n",
            "Lütfen kullanıcı adınızı giriniz: 6352\n",
            "Lütfen parolanızı giriniz: 632\n",
            "kullanıcı adı ve parola hatalı.\n",
            "giriş hakkınız doldu.\n"
          ]
        }
      ],
      "source": [
        "('***ATM GİRİŞ PANELİ***')\n",
        "\n",
        "kullanici_adi='Baris'\n",
        "parola='1907'\n",
        "sayici = 0\n",
        "\n",
        "\n",
        "while 3 >= sayici >= 0 :\n",
        "  sayici += sayici\n",
        "  if sayici == 3:\n",
        "      break\n",
        "  kullanici_adi1 = input('Lütfen kullanıcı adınızı giriniz: ')\n",
        "  parola1 = input('Lütfen parolanızı giriniz: ')\n",
        "\n",
        "  if (kullanici_adi != kullanici_adi1 and parola == parola1) :\n",
        "    sayici = sayici + 1\n",
        "    print('kullanıcı adınız hatalı.')\n",
        "\n",
        "  elif kullanici_adi == kullanici_adi1 and parola != parola1 :\n",
        "    sayici = sayici + 1\n",
        "    print('parola hatalı.')\n",
        "\n",
        "  elif kullanici_adi != kullanici_adi1 and parola != parola1 :\n",
        "    sayici = sayici + 1\n",
        "    print('kullanıcı adı ve parola hatalı.')\n",
        "\n",
        "  if kullanici_adi == kullanici_adi1 and parola == parola1 :\n",
        "      print('bilgiler doğrulanıyor. giriş yapılıyor.')\n",
        "      break\n",
        "if sayici >=4:\n",
        "   print('giriş hakkınız doldu.')\n",
        ""
      ]
    }
  ]
}